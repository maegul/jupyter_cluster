{
 "cells": [
  {
   "cell_type": "markdown",
   "metadata": {},
   "source": [
    "# Testing that Python libraries are available on the Hub"
   ]
  },
  {
   "cell_type": "code",
   "execution_count": null,
   "metadata": {},
   "outputs": [],
   "source": [
    "import pytest\n",
    "import ipytest\n",
    "\n",
    "\n",
    "ipytest.autoconfig()"
   ]
  },
  {
   "cell_type": "markdown",
   "metadata": {},
   "source": [
    "## Data vis"
   ]
  },
  {
   "cell_type": "markdown",
   "metadata": {},
   "source": [
    "### Plotly"
   ]
  },
  {
   "cell_type": "code",
   "execution_count": null,
   "metadata": {},
   "outputs": [],
   "source": [
    "def test_plotly_create_simple_barchart():\n",
    "    import plotly.graph_objects as go\n",
    "    fig = go.Figure(\n",
    "        data=[go.Bar(y=[2, 1, 3])],\n",
    "        layout_title_text=\"A Figure Displayed with fig.show()\"\n",
    "    )\n",
    "    fig.show()"
   ]
  },
  {
   "cell_type": "markdown",
   "metadata": {},
   "source": [
    "### Widgets"
   ]
  },
  {
   "cell_type": "code",
   "execution_count": null,
   "metadata": {},
   "outputs": [],
   "source": [
    "def test_interact_decorate_function():\n",
    "    from ipywidgets import interact\n",
    "\n",
    "    @interact\n",
    "    def add(x=2.0, y=3.0):\n",
    "        return x + y"
   ]
  },
  {
   "cell_type": "markdown",
   "metadata": {},
   "source": [
    "### Matplotlib"
   ]
  },
  {
   "cell_type": "code",
   "execution_count": null,
   "metadata": {},
   "outputs": [],
   "source": [
    "def test_matplotlib_simple_line_plot():\n",
    "    import matplotlib.pyplot as plt\n",
    "\n",
    "\n",
    "    plt.plot(range(10))"
   ]
  },
  {
   "cell_type": "markdown",
   "metadata": {},
   "source": [
    "### Dask and visualizing dask arrays"
   ]
  },
  {
   "cell_type": "code",
   "execution_count": null,
   "metadata": {},
   "outputs": [],
   "source": [
    "def test_dask_visualize():\n",
    "    import dask.array as da\n",
    "\n",
    "    x, y = da.random.uniform(size=(2, 10**5), chunks=10**4)\n",
    "    pi = da.mean(x**2 + y**2 < 1) * 4\n",
    "\n",
    "    pi.visualize()"
   ]
  },
  {
   "cell_type": "markdown",
   "metadata": {},
   "source": [
    "### Altair and `vega_datasets`"
   ]
  },
  {
   "cell_type": "code",
   "execution_count": null,
   "metadata": {},
   "outputs": [],
   "source": [
    "def test_altair_basic_scatterplot():\n",
    "    import altair as alt\n",
    "    from vega_datasets import data\n",
    "\n",
    "    source = data.cars()\n",
    "\n",
    "    brush = alt.selection(type='interval')\n",
    "\n",
    "    points = alt.Chart(source).mark_point().encode(\n",
    "        x='Horsepower:Q',\n",
    "        y='Miles_per_Gallon:Q',\n",
    "        color=alt.condition(brush, 'Origin:N', alt.value('lightgray'))\n",
    "    ).add_selection(\n",
    "        brush\n",
    "    )\n",
    "\n",
    "    bars = alt.Chart(source).mark_bar().encode(\n",
    "        y='Origin:N',\n",
    "        color='Origin:N',\n",
    "        x='count(Origin):Q'\n",
    "    ).transform_filter(\n",
    "        brush\n",
    "    )\n",
    "\n",
    "    points & bars"
   ]
  },
  {
   "cell_type": "markdown",
   "metadata": {},
   "source": [
    "### Datashader"
   ]
  },
  {
   "cell_type": "code",
   "execution_count": null,
   "metadata": {},
   "outputs": [],
   "source": [
    "@pytest.fixture(scope='session')\n",
    "def ny_taxi_points():\n",
    "    from urllib.request import urlretrieve\n",
    "\n",
    "    urlretrieve('https://github.com/holoviz/datashader/blob/master/examples/data/.data_stubs/nyc_taxi.csv?raw=true',\n",
    "                'nyc_taxi.csv')\n",
    "    import pandas as pd\n",
    "\n",
    "    return pd.read_csv('nyc_taxi.csv', usecols=['dropoff_x', 'dropoff_y'])"
   ]
  },
  {
   "cell_type": "code",
   "execution_count": null,
   "metadata": {},
   "outputs": [],
   "source": [
    "def test_datashader_ny_taxi_plot(ny_taxi_points):\n",
    "    import datashader\n",
    "\n",
    "\n",
    "    import datashader as ds\n",
    "    from colorcet import fire\n",
    "    from datashader import transfer_functions as tf\n",
    "\n",
    "    agg = ds.Canvas().points(ny_taxi_points, 'dropoff_x', 'dropoff_y')\n",
    "    tf.set_background(tf.shade(agg, cmap=fire),\"black\")"
   ]
  },
  {
   "cell_type": "markdown",
   "metadata": {},
   "source": [
    "### Holoviews"
   ]
  },
  {
   "cell_type": "code",
   "execution_count": null,
   "metadata": {},
   "outputs": [],
   "source": [
    "def test_holoviews_ny_taxi_plot(ny_taxi_points):\n",
    "    import holoviews as hv\n",
    "    from holoviews.element.tiles import EsriImagery\n",
    "    from holoviews.operation.datashader import datashade\n",
    "    hv.extension('bokeh')\n",
    "\n",
    "    map_tiles  = EsriImagery().opts(alpha=0.5, width=900, height=480, bgcolor='black')\n",
    "    points     = hv.Points(ny_taxi_points, ['dropoff_x', 'dropoff_y'])\n",
    "    taxi_trips = datashade(points, x_sampling=1, y_sampling=1, cmap='fire', width=900, height=480)\n",
    "\n",
    "    map_tiles * taxi_trips"
   ]
  },
  {
   "cell_type": "markdown",
   "metadata": {},
   "source": [
    "### Network analysis"
   ]
  },
  {
   "cell_type": "code",
   "execution_count": null,
   "metadata": {},
   "outputs": [],
   "source": [
    "def test_networkx_graphviz_plot():\n",
    "    import matplotlib.pyplot as plt\n",
    "    import networkx as nx\n",
    "\n",
    "    try:\n",
    "        import pygraphviz\n",
    "        from networkx.drawing.nx_agraph import graphviz_layout\n",
    "    except ImportError:\n",
    "        try:\n",
    "            import pydot\n",
    "            from networkx.drawing.nx_pydot import graphviz_layout\n",
    "        except ImportError:\n",
    "            raise ImportError(\"This example needs Graphviz and either \"\n",
    "                              \"PyGraphviz or pydot\")\n",
    "\n",
    "    G = nx.balanced_tree(3, 5)\n",
    "    pos = graphviz_layout(G, prog='twopi')\n",
    "    plt.figure(figsize=(8, 8))\n",
    "    nx.draw(G, pos, node_size=20, alpha=0.5, node_color=\"blue\", with_labels=False)\n",
    "    plt.axis('equal')\n",
    "    plt.show()"
   ]
  },
  {
   "cell_type": "markdown",
   "metadata": {},
   "source": [
    "### Xarray"
   ]
  },
  {
   "cell_type": "code",
   "execution_count": null,
   "metadata": {},
   "outputs": [],
   "source": [
    "@pytest.mark.skip(reason='Cartopy is a POS and crashes my kernal...')\n",
    "def test_xarray_plot_with_cartopy_projection():\n",
    "    import xarray as xr\n",
    "\n",
    "    import cartopy.crs as ccrs\n",
    "    import matplotlib.pyplot as plt\n",
    "\n",
    "    url = 'https://github.com/mapbox/rasterio/raw/master/tests/data/RGB.byte.tif'\n",
    "    da = xr.open_rasterio(url)\n",
    "\n",
    "    # The data is in UTM projection. We have to set it manually until\n",
    "    # https://github.com/SciTools/cartopy/issues/813 is implemented\n",
    "    crs = ccrs.UTM('18N')\n",
    "\n",
    "    # Plot on a map\n",
    "    ax = plt.subplot(projection=crs)\n",
    "    da.plot.imshow(ax=ax, rgb='band', transform=crs)\n",
    "    ax.coastlines('10m', color='r')"
   ]
  },
  {
   "cell_type": "markdown",
   "metadata": {},
   "source": [
    "### Generic visualisation imports"
   ]
  },
  {
   "cell_type": "code",
   "execution_count": null,
   "metadata": {},
   "outputs": [],
   "source": [
    "data_viz_generic_imports = ['voila', 'dash']\n",
    "\n",
    "@pytest.mark.parametrize(\n",
    "    \"library_name\", \n",
    "    data_viz_generic_imports\n",
    ")\n",
    "def test_data_viz_generic_imports(library_name):\n",
    "    import importlib\n",
    "    \n",
    "    importlib.import_module(library_name)"
   ]
  },
  {
   "cell_type": "markdown",
   "metadata": {},
   "source": [
    "### Flask, SQLAlchemy, Flask-SQLAlchemy, Flask-Connexion"
   ]
  },
  {
   "cell_type": "code",
   "execution_count": null,
   "metadata": {},
   "outputs": [],
   "source": [
    "flask_generic_imports = [\n",
    "    'flask', 'sqlalchemy', 'flask_sqlalchemy', 'alembic', 'connexion', 'yaml', 'flask_apscheduler', 'jinja2',\n",
    "    'itsdangerous'\n",
    "]"
   ]
  },
  {
   "cell_type": "markdown",
   "metadata": {},
   "source": [
    "### Database engines"
   ]
  },
  {
   "cell_type": "code",
   "execution_count": null,
   "metadata": {},
   "outputs": [],
   "source": [
    "@pytest.mark.parametrize(\n",
    "    'library_name',\n",
    "    [pytest.param(name, id='flask') for name in flask_generic_imports]\n",
    ")\n",
    "def test_web_generic_imports(library_name):\n",
    "    import importlib\n",
    "    \n",
    "    importlib.import_module(library_name)"
   ]
  },
  {
   "cell_type": "code",
   "execution_count": null,
   "metadata": {},
   "outputs": [],
   "source": [
    "database_engines_basic = ['psycopg2', 'cx_Oracle', 'sqlite3', 'pymongo',\n",
    "                        'mysql.connector']"
   ]
  },
  {
   "cell_type": "code",
   "execution_count": null,
   "metadata": {},
   "outputs": [],
   "source": [
    "@pytest.mark.parametrize(\n",
    "    'library_name',\n",
    "    [pytest.param(name, id='engine') for name in database_engines_basic]\n",
    ")\n",
    "def test_db_basic_imports(library_name):\n",
    "    import importlib\n",
    "    \n",
    "    importlib.import_module(library_name)"
   ]
  },
  {
   "cell_type": "code",
   "execution_count": null,
   "metadata": {},
   "outputs": [],
   "source": [
    "more_database_engines = ['MySQLdb', 'pyodbc', 'teradatasql']"
   ]
  },
  {
   "cell_type": "code",
   "execution_count": null,
   "metadata": {},
   "outputs": [],
   "source": [
    "@pytest.mark.parametrize(\n",
    "    'library_name',\n",
    "    [pytest.param(name, id='engine') for name in more_database_engines]\n",
    ")\n",
    "def test_more_db_imports(library_name):\n",
    "    import importlib\n",
    "    \n",
    "    importlib.import_module(library_name)"
   ]
  },
  {
   "cell_type": "code",
   "execution_count": null,
   "metadata": {},
   "outputs": [],
   "source": [
    "def test_redis_available():\n",
    "    import redis"
   ]
  },
  {
   "cell_type": "code",
   "execution_count": null,
   "metadata": {},
   "outputs": [],
   "source": [
    "def test_redis():\n",
    "    # Likely to have problems with ports inside containers\n",
    "    import redis\n",
    "    r = redis.Redis()  # do we need / want to setup redis in the cluster?\n",
    "    r.mset({\"Croatia\": \"Zagreb\", \"Bahamas\": \"Nassau\"})\n",
    "    assert r.get(\"Bahamas\") == b'Nassau'"
   ]
  },
  {
   "cell_type": "markdown",
   "metadata": {},
   "source": [
    "import timescaledb  <- not a Python library"
   ]
  },
  {
   "cell_type": "markdown",
   "metadata": {},
   "source": [
    "## Best Practices"
   ]
  },
  {
   "cell_type": "code",
   "execution_count": null,
   "metadata": {},
   "outputs": [],
   "source": [
    "best_practices_libs = ['pylint', 'flake8', 'black', \n",
    "                       'pycodestyle', # formerly pep8\n",
    "                       'hypothesis', 'pytest', 'coverage', 'logzero', 'inflect', 'arrow']\n"
   ]
  },
  {
   "cell_type": "code",
   "execution_count": null,
   "metadata": {},
   "outputs": [],
   "source": [
    "@pytest.mark.parametrize(\n",
    "    \"library_name\", \n",
    "    best_practices_libs\n",
    ")\n",
    "def test_best_practices_imports(library_name):\n",
    "    import importlib\n",
    "    \n",
    "    importlib.import_module(library_name)"
   ]
  },
  {
   "cell_type": "markdown",
   "metadata": {},
   "source": [
    "### Security"
   ]
  },
  {
   "cell_type": "code",
   "execution_count": null,
   "metadata": {},
   "outputs": [],
   "source": [
    "security_libs = ['keyring', 'keyrings.cryptfile', 'passlib', 'bcrypt', 'correcthorse', 'watchdog']"
   ]
  },
  {
   "cell_type": "code",
   "execution_count": null,
   "metadata": {},
   "outputs": [],
   "source": [
    "@pytest.mark.parametrize(\n",
    "    \"library_name\", \n",
    "    security_libs\n",
    ")\n",
    "def test_security_imports(library_name):\n",
    "    import importlib\n",
    "    \n",
    "    importlib.import_module(library_name)"
   ]
  },
  {
   "cell_type": "markdown",
   "metadata": {},
   "source": [
    "## Data analysis and scientific computing"
   ]
  },
  {
   "cell_type": "markdown",
   "metadata": {},
   "source": [
    "### HDF"
   ]
  },
  {
   "cell_type": "code",
   "execution_count": null,
   "metadata": {},
   "outputs": [],
   "source": [
    "def test_pandas_read_hdf():\n",
    "    import pandas as pd\n",
    "    from os import path\n",
    "    \n",
    "    # hopefully the file is in the container already\n",
    "    h5_path = '/Data/AAPL.h5' if path.exists('/Data') else '/tmp/AAPL.h5'\n",
    "    apple = pd.read_hdf(h5_path)\n",
    "\n",
    "    apple[:3]\n",
    "\n",
    "def test_h5py_read_hdf():\n",
    "    import h5py\n",
    "    from os import path\n",
    "    \n",
    "    h5_path = '/Data/AAPL.h5' if path.exists('/Data') else '/tmp/AAPL.h5'\n",
    "\n",
    "    apple_raw = h5py.File(h5_path, mode='r')\n",
    "\n",
    "    apple_raw['AAPL'].keys()"
   ]
  },
  {
   "cell_type": "markdown",
   "metadata": {},
   "source": [
    "### Image processing"
   ]
  },
  {
   "cell_type": "code",
   "execution_count": null,
   "metadata": {},
   "outputs": [],
   "source": [
    "image_processing_libs = ['skimage', 'rasterio']"
   ]
  },
  {
   "cell_type": "code",
   "execution_count": null,
   "metadata": {},
   "outputs": [],
   "source": [
    "@pytest.mark.parametrize(\n",
    "    \"library_name\", \n",
    "    image_processing_libs\n",
    ")\n",
    "def test_image_processing_imports(library_name):\n",
    "    import importlib\n",
    "    \n",
    "    importlib.import_module(library_name)"
   ]
  },
  {
   "cell_type": "markdown",
   "metadata": {},
   "source": [
    "### ML"
   ]
  },
  {
   "cell_type": "code",
   "execution_count": null,
   "metadata": {},
   "outputs": [],
   "source": [
    "ml_libs = ['sklearn', 'eli5', 'yellowbrick', 'textdistance', 'jellyfish']\n",
    "\n",
    "# generally desirable ML libraries\n",
    "# other_ml_libs = ['xgboost', 'keras', 'pytorch', 'tensorflow', ]\n",
    "\n",
    "# compromise (pytorch cpu)\n",
    "other_ml_libs = ['xgboost', 'torch', 'torchvision']\n",
    "\n",
    "distributed_libs = ['distributed']"
   ]
  },
  {
   "cell_type": "code",
   "execution_count": null,
   "metadata": {},
   "outputs": [],
   "source": [
    "@pytest.mark.parametrize(\n",
    "    'library_name',\n",
    "    [pytest.param(name, id='ml') for name in ml_libs] +\n",
    "    [pytest.param(name, id='other_ml') for name in other_ml_libs] +\n",
    "    [pytest.param(name, id='distributed') for name in distributed_libs]\n",
    ")\n",
    "def test_ml_processing_imports(library_name):\n",
    "    import importlib\n",
    "    \n",
    "    importlib.import_module(library_name)"
   ]
  },
  {
   "cell_type": "markdown",
   "metadata": {},
   "source": [
    "### IPython"
   ]
  },
  {
   "cell_type": "code",
   "execution_count": null,
   "metadata": {},
   "outputs": [],
   "source": [
    "def test_ipython_display_image_from_url():\n",
    "    from IPython.display import Image\n",
    "\n",
    "    Image('https://imgs.xkcd.com/comics/password_strength.png')"
   ]
  },
  {
   "cell_type": "markdown",
   "metadata": {},
   "source": [
    "### System and network utils"
   ]
  },
  {
   "cell_type": "code",
   "execution_count": null,
   "metadata": {},
   "outputs": [],
   "source": [
    "network_utils_libs = ['fabric', 'sh', 'psutil', 'click', 'scapy', 'scrapy', ]"
   ]
  },
  {
   "cell_type": "code",
   "execution_count": null,
   "metadata": {},
   "outputs": [],
   "source": [
    "@pytest.mark.parametrize(\n",
    "    \"library_name\", \n",
    "    network_utils_libs\n",
    ")\n",
    "def test_network_util_imports(library_name):\n",
    "    import importlib\n",
    "    \n",
    "    importlib.import_module(library_name)"
   ]
  },
  {
   "cell_type": "markdown",
   "metadata": {},
   "source": [
    "## Running the tests"
   ]
  },
  {
   "cell_type": "code",
   "execution_count": null,
   "metadata": {},
   "outputs": [],
   "source": [
    "ipytest.run()"
   ]
  }
 ],
 "metadata": {
  "hide_input": false,
  "kernelspec": {
   "display_name": "Python 3",
   "language": "python",
   "name": "python3"
  },
  "language_info": {
   "codemirror_mode": {
    "name": "ipython",
    "version": 3
   },
   "file_extension": ".py",
   "mimetype": "text/x-python",
   "name": "python",
   "nbconvert_exporter": "python",
   "pygments_lexer": "ipython3",
   "version": "3.8.4"
  },
  "toc": {
   "base_numbering": 1,
   "nav_menu": {},
   "number_sections": false,
   "sideBar": true,
   "skip_h1_title": false,
   "title_cell": "Table of Contents",
   "title_sidebar": "Contents",
   "toc_cell": false,
   "toc_position": {},
   "toc_section_display": true,
   "toc_window_display": true
  }
 },
 "nbformat": 4,
 "nbformat_minor": 4
}
